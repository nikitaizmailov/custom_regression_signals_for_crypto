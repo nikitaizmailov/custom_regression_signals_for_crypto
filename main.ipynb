{
 "cells": [
  {
   "cell_type": "code",
   "execution_count": null,
   "id": "739d78a9",
   "metadata": {},
   "outputs": [],
   "source": [
    "# libraries\n",
    "import pandas as pd\n",
    "import pandas_datareader as pdr\n",
    "import numpy as np\n",
    "import matplotlib.pyplot as plt\n",
    "\n",
    "import tensorflow as tf\n",
    "import sklearn\n",
    "from sklearn.model_selection import train_test_split\n",
    "from sklearn.preprocessing import StandardScaler\n",
    "from sklearn.impute import SimpleImputer\n",
    "from sklearn.pipeline import Pipeline\n",
    "\n",
    "import os\n",
    "import datetime\n",
    "from IPython import display"
   ]
  },
  {
   "cell_type": "code",
   "execution_count": null,
   "id": "9a3b1356",
   "metadata": {},
   "outputs": [],
   "source": [
    "tf.__version__"
   ]
  },
  {
   "cell_type": "code",
   "execution_count": null,
   "id": "daec5636",
   "metadata": {},
   "outputs": [],
   "source": [
    "import ssl\n",
    "\n",
    "ssl._create_default_https_context = ssl._create_unverified_context"
   ]
  },
  {
   "cell_type": "code",
   "execution_count": null,
   "id": "97977318",
   "metadata": {},
   "outputs": [],
   "source": [
    "# Building a complex and powerful Recurrent Neural Network (RNN).\n",
    "# It will be able to predict profitable trading signals."
   ]
  },
  {
   "cell_type": "code",
   "execution_count": null,
   "id": "55071f85",
   "metadata": {},
   "outputs": [],
   "source": [
    "# Using a Recurrent Neural Network that allows forward propagation and backward propagation. Only RNN allows backward propagation aka feedback connection, which is important as the model self-adjusts its nuerons weights and bias after it has predicted the value and compared it to the actual value and hence it knows what the loss function value or RMSE is, so that it knows what weights to adjust to decrease it.\n",
    "# Example of RNN model is LSTM model which is designed for Time Series Analysis"
   ]
  },
  {
   "cell_type": "code",
   "execution_count": null,
   "id": "b76c39a9",
   "metadata": {},
   "outputs": [],
   "source": [
    "# Build stock/crypto price prediction for next day, next 3 days (72 hours), next 7 days (daily prices), next month (daily prices)."
   ]
  },
  {
   "cell_type": "code",
   "execution_count": null,
   "id": "01a83eda",
   "metadata": {},
   "outputs": [],
   "source": [
    "# Gathering the data.\n",
    "# Trying the Bitcoin BTC first.\n",
    "# Downloading Last 5 years of data.\n",
    "btc_data = pdr.get_data_yahoo([\"BTC-USD\"], start=datetime.datetime(2015, 12, 30), end=datetime.datetime.now())"
   ]
  },
  {
   "cell_type": "code",
   "execution_count": null,
   "id": "4d04b413",
   "metadata": {},
   "outputs": [],
   "source": [
    "btc_data"
   ]
  },
  {
   "cell_type": "code",
   "execution_count": null,
   "id": "bde15178",
   "metadata": {},
   "outputs": [],
   "source": [
    "# Converting multindex columns to single level.\n",
    "btc_data.columns = [x[0] for x in btc_data.columns]"
   ]
  },
  {
   "cell_type": "code",
   "execution_count": null,
   "id": "1797b460",
   "metadata": {},
   "outputs": [],
   "source": [
    "# Time Series data\n",
    "ts_copy = btc_data.copy()"
   ]
  },
  {
   "cell_type": "code",
   "execution_count": null,
   "id": "b94352f3",
   "metadata": {},
   "outputs": [],
   "source": [
    "ts_copy = pd.Series(ts_copy.index)"
   ]
  },
  {
   "cell_type": "code",
   "execution_count": null,
   "id": "366c56bf",
   "metadata": {},
   "outputs": [],
   "source": [
    "ts_copy = pd.DataFrame(ts_copy)"
   ]
  },
  {
   "cell_type": "code",
   "execution_count": null,
   "id": "44a75379",
   "metadata": {},
   "outputs": [],
   "source": [
    "# Explore data.\n",
    "# Find Outliers and Empty values\n",
    "# Empty values in any() method are considered np.NaN, 0 or False or \"\" empty string.\n",
    "btc_data[~btc_data.any(axis=1)]"
   ]
  },
  {
   "cell_type": "code",
   "execution_count": null,
   "id": "8e5fb9a0",
   "metadata": {},
   "outputs": [],
   "source": [
    "# Lets see the data distribution\n",
    "btc_data.hist(figsize=(20, 15))\n",
    "plt.show()"
   ]
  },
  {
   "cell_type": "code",
   "execution_count": null,
   "id": "753087bb",
   "metadata": {},
   "outputs": [],
   "source": [
    "# Using Data Windowing to create labels for your inputted window\n",
    "# The model will make set of predictions based on a window of consecutive samples from the price data\n",
    "# The width (number of time steps) of the input and label windows.\n",
    "# The time offset between them.\n",
    "# Which features are used as inputs, labels, or both.\n",
    "# Time step (1 day)\n",
    "\n",
    "# in days\n",
    "input_width = 3\n",
    "label_width = 3\n",
    "\n",
    "def sliding_window(input_width, label_width, df):\n",
    "    indices = np.arange(len(df))\n",
    "    column_length = len(df.columns)\n",
    "    \n",
    "    y_labels_df = df[['Date', 'Close']]\n",
    "\n",
    "    store_inp_data = []\n",
    "    store_labl_data = []\n",
    "\n",
    "    for idx in indices[::input_width + label_width]:\n",
    "        store_inp_data.append(df[idx: idx+input_width].values)\n",
    "        store_labl_data.append(y_labels_df[idx+input_width: idx+input_width+label_width].values)\n",
    "    \n",
    "    return np.array(store_inp_data), np.array(store_labl_data)\n"
   ]
  },
  {
   "cell_type": "code",
   "execution_count": null,
   "id": "3b5f15a9",
   "metadata": {},
   "outputs": [],
   "source": [
    "input_df = btc_data.copy()"
   ]
  },
  {
   "cell_type": "code",
   "execution_count": null,
   "id": "8ed09345",
   "metadata": {},
   "outputs": [],
   "source": [
    "input_df_reset = input_df.reset_index()"
   ]
  },
  {
   "cell_type": "code",
   "execution_count": null,
   "id": "72c757a3",
   "metadata": {},
   "outputs": [],
   "source": [
    "X_window_data, y_window_data = sliding_window(input_width, label_width, input_df_reset)"
   ]
  },
  {
   "cell_type": "code",
   "execution_count": null,
   "id": "e8c3c082",
   "metadata": {},
   "outputs": [],
   "source": [
    "X_window_data.shape"
   ]
  },
  {
   "cell_type": "code",
   "execution_count": null,
   "id": "35ca3a45",
   "metadata": {},
   "outputs": [],
   "source": [
    "y_window_data.shape"
   ]
  },
  {
   "cell_type": "code",
   "execution_count": null,
   "id": "500789eb",
   "metadata": {},
   "outputs": [],
   "source": [
    "# Train Test Split\n",
    "X_train_full, X_test, y_train_full, y_test = train_test_split(X_window_data, y_window_data, test_size=0.2, shuffle=False)"
   ]
  },
  {
   "cell_type": "code",
   "execution_count": null,
   "id": "07fa9914",
   "metadata": {},
   "outputs": [],
   "source": [
    "# Splitting further into training and validation sets\n",
    "X_train, X_valid, y_train, y_valid = train_test_split(X_train_full, y_train_full, shuffle=False)"
   ]
  },
  {
   "cell_type": "code",
   "execution_count": null,
   "id": "094e4623",
   "metadata": {},
   "outputs": [],
   "source": [
    "X_train.shape"
   ]
  },
  {
   "cell_type": "code",
   "execution_count": null,
   "id": "47ddc12c",
   "metadata": {},
   "outputs": [],
   "source": [
    "y_train.shape"
   ]
  },
  {
   "cell_type": "code",
   "execution_count": null,
   "id": "4a4f95ca",
   "metadata": {},
   "outputs": [],
   "source": [
    "# Storing respective time data for each dataframe\n",
    "X_test_time_index = X_test[:,:,0]\n",
    "X_train_time_index = X_train[:,:,0]\n",
    "X_valid_time_index = X_valid[:,:,0]"
   ]
  },
  {
   "cell_type": "code",
   "execution_count": null,
   "id": "c6f078ee",
   "metadata": {},
   "outputs": [],
   "source": [
    "X_test = X_test[:,:,1:]\n",
    "X_train = X_train[:,:,1:]\n",
    "X_valid = X_valid[:,:,1:]"
   ]
  },
  {
   "cell_type": "code",
   "execution_count": null,
   "id": "bb42f91f",
   "metadata": {},
   "outputs": [],
   "source": [
    "y_train = y_train[:,:,1:]\n",
    "y_valid = y_valid[:,:,1:]\n",
    "y_test = y_test[:,:,1:]"
   ]
  },
  {
   "cell_type": "code",
   "execution_count": null,
   "id": "20a69079",
   "metadata": {},
   "outputs": [],
   "source": [
    "X_test_reshaped = X_test.reshape(-1, 18)\n",
    "X_train_reshaped = X_train.reshape(-1,18)\n",
    "X_valid_reshaped = X_valid.reshape(-1, 18)"
   ]
  },
  {
   "cell_type": "code",
   "execution_count": null,
   "id": "17fc21eb",
   "metadata": {},
   "outputs": [],
   "source": [
    "# Scaling the data. Specifically is Standardizing the data, because RNN are very sensitive to outliers and need data to be scaled to same scales.\n",
    "scaler = StandardScaler()\n",
    "imputer = SimpleImputer(strategy=\"median\")"
   ]
  },
  {
   "cell_type": "code",
   "execution_count": null,
   "id": "b4d6925f",
   "metadata": {},
   "outputs": [],
   "source": [
    "num_pipeline = Pipeline([\n",
    "    (\"imputer\", SimpleImputer(strategy=\"median\")),\n",
    "    (\"std_scaler\", StandardScaler()),\n",
    "])"
   ]
  },
  {
   "cell_type": "code",
   "execution_count": null,
   "id": "14129c27",
   "metadata": {},
   "outputs": [],
   "source": [
    "X_train_scaled = num_pipeline.fit_transform(X_train_reshaped)\n",
    "X_valid_scaled = num_pipeline.transform(X_valid_reshaped)\n",
    "X_test_scaled = num_pipeline.transform(X_test_reshaped)"
   ]
  },
  {
   "cell_type": "code",
   "execution_count": null,
   "id": "e4db07d8",
   "metadata": {},
   "outputs": [],
   "source": [
    "# reshaping the X_inputs back into 3 dimensional ndarray\n",
    "X_test_3d = X_test_scaled.reshape(-1, 3, 6)\n",
    "X_train_3d = X_train_scaled.reshape(-1, 3, 6)\n",
    "X_valid_3d = X_valid_scaled.reshape(-1, 3, 6)"
   ]
  },
  {
   "cell_type": "code",
   "execution_count": null,
   "id": "2495a02f",
   "metadata": {},
   "outputs": [],
   "source": [
    "OUT_STEPS = X_train_3d.shape[1]\n",
    "num_features = 1\n",
    "\n",
    "multi_lstm_model = tf.keras.Sequential([\n",
    "    # Shape [batch, time_steps, features] => [batch, lstm_units]\n",
    "    tf.keras.layers.LSTM(32, return_sequences=False),\n",
    "    # Shape => [btach, out_steps*features]\n",
    "    tf.keras.layers.Dense(OUT_STEPS * num_features, kernel_initializer=tf.initializers.zeros()),\n",
    "    # Shape => [batch, out_steps, features]\n",
    "    tf.keras.layers.Reshape([OUT_STEPS, num_features]),\n",
    "])"
   ]
  },
  {
   "cell_type": "code",
   "execution_count": null,
   "id": "5185d1d0",
   "metadata": {},
   "outputs": [],
   "source": [
    "multi_lstm_model.compile(loss=tf.losses.MeanSquaredError(),\n",
    "                        metrics=[tf.metrics.MeanAbsoluteError()])"
   ]
  },
  {
   "cell_type": "code",
   "execution_count": null,
   "id": "e1f9eb76",
   "metadata": {},
   "outputs": [],
   "source": [
    "y_train = y_train.astype(\"float\")\n",
    "y_valid = y_valid.astype(\"float\")"
   ]
  },
  {
   "cell_type": "code",
   "execution_count": null,
   "id": "39144bfa",
   "metadata": {},
   "outputs": [],
   "source": [
    "history = multi_lstm_model.fit(X_train_3d, y_train, epochs=20)"
   ]
  },
  {
   "cell_type": "code",
   "execution_count": null,
   "id": "6a19cf25",
   "metadata": {},
   "outputs": [],
   "source": []
  }
 ],
 "metadata": {
  "kernelspec": {
   "display_name": "Python 3 (ipykernel)",
   "language": "python",
   "name": "python3"
  },
  "language_info": {
   "codemirror_mode": {
    "name": "ipython",
    "version": 3
   },
   "file_extension": ".py",
   "mimetype": "text/x-python",
   "name": "python",
   "nbconvert_exporter": "python",
   "pygments_lexer": "ipython3",
   "version": "3.9.12"
  }
 },
 "nbformat": 4,
 "nbformat_minor": 5
}
