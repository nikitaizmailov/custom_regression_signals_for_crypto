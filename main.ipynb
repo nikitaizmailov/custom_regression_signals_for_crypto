{
 "cells": [
  {
   "cell_type": "code",
   "execution_count": 363,
   "id": "739d78a9",
   "metadata": {},
   "outputs": [],
   "source": [
    "# libraries\n",
    "import pandas as pd\n",
    "import pandas_datareader as pdr\n",
    "import numpy as np\n",
    "import matplotlib.pyplot as plt\n",
    "\n",
    "import tensorflow as tf\n",
    "import sklearn\n",
    "from sklearn.model_selection import train_test_split\n",
    "from sklearn.preprocessing import StandardScaler\n",
    "from sklearn.impute import SimpleImputer\n",
    "from sklearn.pipeline import Pipeline\n",
    "\n",
    "import os\n",
    "import datetime\n",
    "from IPython import display"
   ]
  },
  {
   "cell_type": "code",
   "execution_count": 364,
   "id": "79fc3bdc",
   "metadata": {},
   "outputs": [],
   "source": [
    "from sklearn.metrics import mean_squared_error"
   ]
  },
  {
   "cell_type": "code",
   "execution_count": 365,
   "id": "9a3b1356",
   "metadata": {},
   "outputs": [
    {
     "data": {
      "text/plain": [
       "'2.8.0'"
      ]
     },
     "execution_count": 365,
     "metadata": {},
     "output_type": "execute_result"
    }
   ],
   "source": [
    "tf.__version__"
   ]
  },
  {
   "cell_type": "code",
   "execution_count": 366,
   "id": "daec5636",
   "metadata": {},
   "outputs": [],
   "source": [
    "import ssl\n",
    "\n",
    "ssl._create_default_https_context = ssl._create_unverified_context"
   ]
  },
  {
   "cell_type": "code",
   "execution_count": 367,
   "id": "97977318",
   "metadata": {},
   "outputs": [],
   "source": [
    "# Building a complex and powerful Recurrent Neural Network (RNN).\n",
    "# It will be able to predict profitable trading signals."
   ]
  },
  {
   "cell_type": "code",
   "execution_count": 368,
   "id": "55071f85",
   "metadata": {},
   "outputs": [],
   "source": [
    "# Using a Recurrent Neural Network that allows forward propagation and backward propagation. Only RNN allows backward propagation aka feedback connection, which is important as the model self-adjusts its nuerons weights and bias after it has predicted the value and compared it to the actual value and hence it knows what the loss function value or RMSE is, so that it knows what weights to adjust to decrease it.\n",
    "# Example of RNN model is LSTM model which is designed for Time Series Analysis"
   ]
  },
  {
   "cell_type": "code",
   "execution_count": 369,
   "id": "b76c39a9",
   "metadata": {},
   "outputs": [],
   "source": [
    "# Build stock/crypto price prediction for next day, next 3 days (72 hours), next 7 days (daily prices), next month (daily prices)."
   ]
  },
  {
   "cell_type": "code",
   "execution_count": 370,
   "id": "01a83eda",
   "metadata": {},
   "outputs": [],
   "source": [
    "# Gathering the data.\n",
    "# Trying the Bitcoin BTC first.\n",
    "# Downloading Last 5 years of data.\n",
    "btc_data = pdr.get_data_yahoo([\"BTC-USD\"], start=datetime.datetime(2015, 12, 30), end=datetime.datetime.now())"
   ]
  },
  {
   "cell_type": "code",
   "execution_count": 371,
   "id": "4d04b413",
   "metadata": {},
   "outputs": [
    {
     "data": {
      "text/html": [
       "<div>\n",
       "<style scoped>\n",
       "    .dataframe tbody tr th:only-of-type {\n",
       "        vertical-align: middle;\n",
       "    }\n",
       "\n",
       "    .dataframe tbody tr th {\n",
       "        vertical-align: top;\n",
       "    }\n",
       "\n",
       "    .dataframe thead tr th {\n",
       "        text-align: left;\n",
       "    }\n",
       "\n",
       "    .dataframe thead tr:last-of-type th {\n",
       "        text-align: right;\n",
       "    }\n",
       "</style>\n",
       "<table border=\"1\" class=\"dataframe\">\n",
       "  <thead>\n",
       "    <tr>\n",
       "      <th>Attributes</th>\n",
       "      <th>Adj Close</th>\n",
       "      <th>Close</th>\n",
       "      <th>High</th>\n",
       "      <th>Low</th>\n",
       "      <th>Open</th>\n",
       "      <th>Volume</th>\n",
       "    </tr>\n",
       "    <tr>\n",
       "      <th>Symbols</th>\n",
       "      <th>BTC-USD</th>\n",
       "      <th>BTC-USD</th>\n",
       "      <th>BTC-USD</th>\n",
       "      <th>BTC-USD</th>\n",
       "      <th>BTC-USD</th>\n",
       "      <th>BTC-USD</th>\n",
       "    </tr>\n",
       "    <tr>\n",
       "      <th>Date</th>\n",
       "      <th></th>\n",
       "      <th></th>\n",
       "      <th></th>\n",
       "      <th></th>\n",
       "      <th></th>\n",
       "      <th></th>\n",
       "    </tr>\n",
       "  </thead>\n",
       "  <tbody>\n",
       "    <tr>\n",
       "      <th>2015-12-30</th>\n",
       "      <td>426.619995</td>\n",
       "      <td>426.619995</td>\n",
       "      <td>434.386993</td>\n",
       "      <td>422.084015</td>\n",
       "      <td>433.299988</td>\n",
       "      <td>46889400</td>\n",
       "    </tr>\n",
       "    <tr>\n",
       "      <th>2015-12-31</th>\n",
       "      <td>430.566986</td>\n",
       "      <td>430.566986</td>\n",
       "      <td>432.920990</td>\n",
       "      <td>418.734985</td>\n",
       "      <td>425.875000</td>\n",
       "      <td>45996600</td>\n",
       "    </tr>\n",
       "    <tr>\n",
       "      <th>2016-01-01</th>\n",
       "      <td>434.334015</td>\n",
       "      <td>434.334015</td>\n",
       "      <td>436.246002</td>\n",
       "      <td>427.515015</td>\n",
       "      <td>430.721008</td>\n",
       "      <td>36278900</td>\n",
       "    </tr>\n",
       "    <tr>\n",
       "      <th>2016-01-02</th>\n",
       "      <td>433.437988</td>\n",
       "      <td>433.437988</td>\n",
       "      <td>436.062012</td>\n",
       "      <td>431.869995</td>\n",
       "      <td>434.622009</td>\n",
       "      <td>30096600</td>\n",
       "    </tr>\n",
       "    <tr>\n",
       "      <th>2016-01-03</th>\n",
       "      <td>430.010986</td>\n",
       "      <td>430.010986</td>\n",
       "      <td>433.743011</td>\n",
       "      <td>424.705994</td>\n",
       "      <td>433.578003</td>\n",
       "      <td>39633800</td>\n",
       "    </tr>\n",
       "    <tr>\n",
       "      <th>...</th>\n",
       "      <td>...</td>\n",
       "      <td>...</td>\n",
       "      <td>...</td>\n",
       "      <td>...</td>\n",
       "      <td>...</td>\n",
       "      <td>...</td>\n",
       "    </tr>\n",
       "    <tr>\n",
       "      <th>2022-05-17</th>\n",
       "      <td>30425.857422</td>\n",
       "      <td>30425.857422</td>\n",
       "      <td>30694.490234</td>\n",
       "      <td>29570.302734</td>\n",
       "      <td>29862.408203</td>\n",
       "      <td>29101473475</td>\n",
       "    </tr>\n",
       "    <tr>\n",
       "      <th>2022-05-18</th>\n",
       "      <td>28720.271484</td>\n",
       "      <td>28720.271484</td>\n",
       "      <td>30618.716797</td>\n",
       "      <td>28720.271484</td>\n",
       "      <td>30424.478516</td>\n",
       "      <td>31285268319</td>\n",
       "    </tr>\n",
       "    <tr>\n",
       "      <th>2022-05-19</th>\n",
       "      <td>30314.333984</td>\n",
       "      <td>30314.333984</td>\n",
       "      <td>30430.751953</td>\n",
       "      <td>28708.955078</td>\n",
       "      <td>28720.359375</td>\n",
       "      <td>33773447707</td>\n",
       "    </tr>\n",
       "    <tr>\n",
       "      <th>2022-05-20</th>\n",
       "      <td>29200.740234</td>\n",
       "      <td>29200.740234</td>\n",
       "      <td>30664.976562</td>\n",
       "      <td>28793.605469</td>\n",
       "      <td>30311.119141</td>\n",
       "      <td>30749382605</td>\n",
       "    </tr>\n",
       "    <tr>\n",
       "      <th>2022-05-21</th>\n",
       "      <td>29465.894531</td>\n",
       "      <td>29465.894531</td>\n",
       "      <td>29588.869141</td>\n",
       "      <td>29062.800781</td>\n",
       "      <td>29168.476562</td>\n",
       "      <td>18208233472</td>\n",
       "    </tr>\n",
       "  </tbody>\n",
       "</table>\n",
       "<p>2335 rows × 6 columns</p>\n",
       "</div>"
      ],
      "text/plain": [
       "Attributes     Adj Close         Close          High           Low  \\\n",
       "Symbols          BTC-USD       BTC-USD       BTC-USD       BTC-USD   \n",
       "Date                                                                 \n",
       "2015-12-30    426.619995    426.619995    434.386993    422.084015   \n",
       "2015-12-31    430.566986    430.566986    432.920990    418.734985   \n",
       "2016-01-01    434.334015    434.334015    436.246002    427.515015   \n",
       "2016-01-02    433.437988    433.437988    436.062012    431.869995   \n",
       "2016-01-03    430.010986    430.010986    433.743011    424.705994   \n",
       "...                  ...           ...           ...           ...   \n",
       "2022-05-17  30425.857422  30425.857422  30694.490234  29570.302734   \n",
       "2022-05-18  28720.271484  28720.271484  30618.716797  28720.271484   \n",
       "2022-05-19  30314.333984  30314.333984  30430.751953  28708.955078   \n",
       "2022-05-20  29200.740234  29200.740234  30664.976562  28793.605469   \n",
       "2022-05-21  29465.894531  29465.894531  29588.869141  29062.800781   \n",
       "\n",
       "Attributes          Open       Volume  \n",
       "Symbols          BTC-USD      BTC-USD  \n",
       "Date                                   \n",
       "2015-12-30    433.299988     46889400  \n",
       "2015-12-31    425.875000     45996600  \n",
       "2016-01-01    430.721008     36278900  \n",
       "2016-01-02    434.622009     30096600  \n",
       "2016-01-03    433.578003     39633800  \n",
       "...                  ...          ...  \n",
       "2022-05-17  29862.408203  29101473475  \n",
       "2022-05-18  30424.478516  31285268319  \n",
       "2022-05-19  28720.359375  33773447707  \n",
       "2022-05-20  30311.119141  30749382605  \n",
       "2022-05-21  29168.476562  18208233472  \n",
       "\n",
       "[2335 rows x 6 columns]"
      ]
     },
     "execution_count": 371,
     "metadata": {},
     "output_type": "execute_result"
    }
   ],
   "source": [
    "btc_data"
   ]
  },
  {
   "cell_type": "code",
   "execution_count": 372,
   "id": "bde15178",
   "metadata": {},
   "outputs": [],
   "source": [
    "# Converting multindex columns to single level.\n",
    "btc_data.columns = [x[0] for x in btc_data.columns]"
   ]
  },
  {
   "cell_type": "code",
   "execution_count": 373,
   "id": "1797b460",
   "metadata": {},
   "outputs": [],
   "source": [
    "# Time Series data\n",
    "ts_copy = btc_data.copy()"
   ]
  },
  {
   "cell_type": "code",
   "execution_count": 374,
   "id": "b94352f3",
   "metadata": {},
   "outputs": [],
   "source": [
    "ts_copy = pd.Series(ts_copy.index)"
   ]
  },
  {
   "cell_type": "code",
   "execution_count": 375,
   "id": "366c56bf",
   "metadata": {},
   "outputs": [],
   "source": [
    "ts_copy = pd.DataFrame(ts_copy)"
   ]
  },
  {
   "cell_type": "code",
   "execution_count": 376,
   "id": "44a75379",
   "metadata": {},
   "outputs": [
    {
     "data": {
      "text/html": [
       "<div>\n",
       "<style scoped>\n",
       "    .dataframe tbody tr th:only-of-type {\n",
       "        vertical-align: middle;\n",
       "    }\n",
       "\n",
       "    .dataframe tbody tr th {\n",
       "        vertical-align: top;\n",
       "    }\n",
       "\n",
       "    .dataframe thead th {\n",
       "        text-align: right;\n",
       "    }\n",
       "</style>\n",
       "<table border=\"1\" class=\"dataframe\">\n",
       "  <thead>\n",
       "    <tr style=\"text-align: right;\">\n",
       "      <th></th>\n",
       "      <th>Adj Close</th>\n",
       "      <th>Close</th>\n",
       "      <th>High</th>\n",
       "      <th>Low</th>\n",
       "      <th>Open</th>\n",
       "      <th>Volume</th>\n",
       "    </tr>\n",
       "    <tr>\n",
       "      <th>Date</th>\n",
       "      <th></th>\n",
       "      <th></th>\n",
       "      <th></th>\n",
       "      <th></th>\n",
       "      <th></th>\n",
       "      <th></th>\n",
       "    </tr>\n",
       "  </thead>\n",
       "  <tbody>\n",
       "  </tbody>\n",
       "</table>\n",
       "</div>"
      ],
      "text/plain": [
       "Empty DataFrame\n",
       "Columns: [Adj Close, Close, High, Low, Open, Volume]\n",
       "Index: []"
      ]
     },
     "execution_count": 376,
     "metadata": {},
     "output_type": "execute_result"
    }
   ],
   "source": [
    "# Explore data.\n",
    "# Find Outliers and Empty values\n",
    "# Empty values in any() method are considered np.NaN, 0 or False or \"\" empty string.\n",
    "btc_data[~btc_data.any(axis=1)]"
   ]
  },
  {
   "cell_type": "code",
   "execution_count": 377,
   "id": "8e5fb9a0",
   "metadata": {},
   "outputs": [
    {
     "data": {
      "image/png": "[encoded data removed]",
      "text/plain": [
       "<Figure size 1440x1080 with 6 Axes>"
      ]
     },
     "metadata": {
      "needs_background": "light"
     },
     "output_type": "display_data"
    }
   ],
   "source": [
    "# Lets see the data distribution\n",
    "btc_data.hist(figsize=(20, 15))\n",
    "plt.show()"
   ]
  },
  {
   "cell_type": "code",
   "execution_count": 378,
   "id": "753087bb",
   "metadata": {},
   "outputs": [],
   "source": [
    "# Using Data Windowing to create labels for your inputted window\n",
    "# The model will make set of predictions based on a window of consecutive samples from the price data\n",
    "# The width (number of time steps) of the input and label windows.\n",
    "# The time offset between them.\n",
    "# Which features are used as inputs, labels, or both.\n",
    "# Time step (1 day)\n",
    "\n",
    "# in days\n",
    "input_width = 3\n",
    "label_width = 3\n",
    "\n",
    "def sliding_window(input_width, label_width, df):\n",
    "    indices = np.arange(len(df))\n",
    "    column_length = len(df.columns)\n",
    "    \n",
    "    y_labels_df = df[['Date', 'Close']]\n",
    "\n",
    "    store_inp_data = []\n",
    "    store_labl_data = []\n",
    "\n",
    "    for idx in indices[::input_width + label_width]:\n",
    "        store_inp_data.append(df[idx: idx+input_width].values)\n",
    "        store_labl_data.append(y_labels_df[idx+input_width: idx+input_width+label_width].values)\n",
    "    \n",
    "    return store_inp_data, store_labl_data\n"
   ]
  },
  {
   "cell_type": "code",
   "execution_count": 379,
   "id": "3b5f15a9",
   "metadata": {},
   "outputs": [],
   "source": [
    "input_df = btc_data.copy()"
   ]
  },
  {
   "cell_type": "code",
   "execution_count": 380,
   "id": "8ed09345",
   "metadata": {},
   "outputs": [],
   "source": [
    "input_df_reset = input_df.reset_index()"
   ]
  },
  {
   "cell_type": "code",
   "execution_count": 381,
   "id": "1053f40e",
   "metadata": {},
   "outputs": [],
   "source": [
    "storage = []"
   ]
  },
  {
   "cell_type": "code",
   "execution_count": 382,
   "id": "5ed0975d",
   "metadata": {},
   "outputs": [],
   "source": [
    "str_random = input_df_reset[0:5].values"
   ]
  },
  {
   "cell_type": "code",
   "execution_count": 383,
   "id": "a4deb2b1",
   "metadata": {},
   "outputs": [],
   "source": [
    "storage.append(str_random)"
   ]
  },
  {
   "cell_type": "code",
   "execution_count": 384,
   "id": "87419164",
   "metadata": {},
   "outputs": [
    {
     "data": {
      "text/plain": [
       "array([[[Timestamp('2015-12-30 00:00:00'), 426.6199951171875,\n",
       "         426.6199951171875, 434.3869934082031, 422.0840148925781,\n",
       "         433.29998779296875, 46889400],\n",
       "        [Timestamp('2015-12-31 00:00:00'), 430.5669860839844,\n",
       "         430.5669860839844, 432.9209899902344, 418.7349853515625,\n",
       "         425.875, 45996600],\n",
       "        [Timestamp('2016-01-01 00:00:00'), 434.3340148925781,\n",
       "         434.3340148925781, 436.2460021972656, 427.5150146484375,\n",
       "         430.72100830078125, 36278900],\n",
       "        [Timestamp('2016-01-02 00:00:00'), 433.43798828125,\n",
       "         433.43798828125, 436.06201171875, 431.8699951171875,\n",
       "         434.62200927734375, 30096600],\n",
       "        [Timestamp('2016-01-03 00:00:00'), 430.010986328125,\n",
       "         430.010986328125, 433.7430114746094, 424.70599365234375,\n",
       "         433.5780029296875, 39633800]]], dtype=object)"
      ]
     },
     "execution_count": 384,
     "metadata": {},
     "output_type": "execute_result"
    }
   ],
   "source": [
    "np.array(storage)"
   ]
  },
  {
   "cell_type": "code",
   "execution_count": 385,
   "id": "72c757a3",
   "metadata": {},
   "outputs": [],
   "source": [
    "X_window_data, y_window_data = sliding_window(input_width, label_width, input_df_reset)"
   ]
  },
  {
   "cell_type": "code",
   "execution_count": 386,
   "id": "e7f8447c",
   "metadata": {},
   "outputs": [],
   "source": [
    "# I am excluding last element in the array, as otherwise there is a bug in conversion to nmpy array from list.\n",
    "X_window_data_reshaped = np.array(X_window_data[0:-1])\n",
    "y_window_data_reshaped = np.array(y_window_data[0:-1])"
   ]
  },
  {
   "cell_type": "code",
   "execution_count": 387,
   "id": "500789eb",
   "metadata": {},
   "outputs": [],
   "source": [
    "# Train Test Split\n",
    "X_train_full, X_test, y_train_full, y_test = train_test_split(X_window_data_reshaped, y_window_data_reshaped, test_size=0.2, shuffle=False)"
   ]
  },
  {
   "cell_type": "code",
   "execution_count": 388,
   "id": "07fa9914",
   "metadata": {},
   "outputs": [],
   "source": [
    "# Splitting further into training and validation sets\n",
    "X_train, X_valid, y_train, y_valid = train_test_split(X_train_full, y_train_full, shuffle=False)"
   ]
  },
  {
   "cell_type": "code",
   "execution_count": 389,
   "id": "094e4623",
   "metadata": {},
   "outputs": [
    {
     "data": {
      "text/plain": [
       "(233, 3, 7)"
      ]
     },
     "execution_count": 389,
     "metadata": {},
     "output_type": "execute_result"
    }
   ],
   "source": [
    "X_train.shape"
   ]
  },
  {
   "cell_type": "code",
   "execution_count": 390,
   "id": "47ddc12c",
   "metadata": {},
   "outputs": [
    {
     "data": {
      "text/plain": [
       "(233, 3, 2)"
      ]
     },
     "execution_count": 390,
     "metadata": {},
     "output_type": "execute_result"
    }
   ],
   "source": [
    "y_train.shape"
   ]
  },
  {
   "cell_type": "code",
   "execution_count": 391,
   "id": "4a4f95ca",
   "metadata": {},
   "outputs": [],
   "source": [
    "# Storing respective time data for each dataframe\n",
    "X_train_full_time_index = X_train_full[:,:,0]"
   ]
  },
  {
   "cell_type": "code",
   "execution_count": 392,
   "id": "c6f078ee",
   "metadata": {},
   "outputs": [],
   "source": [
    "# Getting rid of time data points\n",
    "X_test = X_test[:,:,1:]\n",
    "X_train = X_train[:,:,1:]\n",
    "X_valid = X_valid[:,:,1:]"
   ]
  },
  {
   "cell_type": "code",
   "execution_count": 393,
   "id": "bb42f91f",
   "metadata": {},
   "outputs": [],
   "source": [
    "# Getting rid of time data points\n",
    "y_train = y_train[:,:,1:]\n",
    "y_valid = y_valid[:,:,1:]\n",
    "y_test = y_test[:,:,1:]"
   ]
  },
  {
   "cell_type": "code",
   "execution_count": 394,
   "id": "20a69079",
   "metadata": {},
   "outputs": [],
   "source": [
    "# Reshaping data so that it can be inputted in requried 2d format to be transformed and scaled.\n",
    "X_test_reshaped = X_test.reshape(-1, 18)\n",
    "X_train_reshaped = X_train.reshape(-1,18)\n",
    "X_valid_reshaped = X_valid.reshape(-1, 18)"
   ]
  },
  {
   "cell_type": "code",
   "execution_count": 444,
   "id": "91d443e8",
   "metadata": {},
   "outputs": [],
   "source": [
    "y_train_reshaped = y_train.reshape(-1, 3)\n",
    "y_valid_reshaped = y_valid.reshape(-1,3)\n",
    "y_test_reshaped = y_test.reshape(-1,3)"
   ]
  },
  {
   "cell_type": "code",
   "execution_count": 445,
   "id": "17fc21eb",
   "metadata": {},
   "outputs": [],
   "source": [
    "# Scaling the data. Specifically is Standardizing the data, because RNN are very sensitive to outliers and need data to be scaled to same scales.\n",
    "scaler = StandardScaler()\n",
    "imputer = SimpleImputer(strategy=\"median\")"
   ]
  },
  {
   "cell_type": "code",
   "execution_count": 446,
   "id": "b4d6925f",
   "metadata": {},
   "outputs": [],
   "source": [
    "num_pipeline = Pipeline([\n",
    "    (\"imputer\", SimpleImputer(strategy=\"median\", add_indicator=True)),\n",
    "    (\"std_scaler\", StandardScaler()),\n",
    "])"
   ]
  },
  {
   "cell_type": "code",
   "execution_count": 447,
   "id": "14129c27",
   "metadata": {},
   "outputs": [],
   "source": [
    "X_train_scaled = num_pipeline.fit_transform(X_train_reshaped)\n",
    "X_valid_scaled = num_pipeline.transform(X_valid_reshaped)\n",
    "X_test_scaled = num_pipeline.transform(X_test_reshaped)"
   ]
  },
  {
   "cell_type": "code",
   "execution_count": 448,
   "id": "4ddeb8f2",
   "metadata": {},
   "outputs": [],
   "source": [
    "y_train_scaled = num_pipeline.fit_transform(y_train_reshaped)\n",
    "y_valid_scaled = num_pipeline.transform(y_valid_reshaped)\n",
    "y_test_scaled = num_pipeline.transform(y_test_reshaped)"
   ]
  },
  {
   "cell_type": "code",
   "execution_count": 449,
   "id": "e4db07d8",
   "metadata": {},
   "outputs": [],
   "source": [
    "# reshaping the X_inputs back into 3 dimensional ndarray\n",
    "X_test_3d = X_test_scaled.reshape(-1, 3, 6)\n",
    "X_train_3d = X_train_scaled.reshape(-1, 3, 6)\n",
    "X_valid_3d = X_valid_scaled.reshape(-1, 3, 6)"
   ]
  },
  {
   "cell_type": "code",
   "execution_count": 450,
   "id": "685af11c",
   "metadata": {},
   "outputs": [],
   "source": [
    "y_train_3d = y_train_scaled.reshape(-1,3,1)\n",
    "y_valid_3d = y_valid_scaled.reshape(-1,3,1)\n",
    "y_test_3d = y_test_scaled.reshape(-1,3,1)"
   ]
  },
  {
   "cell_type": "code",
   "execution_count": 454,
   "id": "2495a02f",
   "metadata": {},
   "outputs": [],
   "source": [
    "# You need to make LSTM(Number) match your [batch, time_step, features] batch number.\n",
    "\n",
    "OUT_STEPS = X_train_3d.shape[1]\n",
    "num_features = 1\n",
    "\n",
    "input_shape = X_train_3d.shape\n",
    "\n",
    "multi_lstm_model = tf.keras.Sequential([\n",
    "    # Shape [batch, time_steps, features] => [batch, lstm_units]\n",
    "    # If return_sequences=False, the default, the layer only returns the output of the final time step, giving the model time to warm up its internal state before making a single prediction:\n",
    "    # If return_sequences=True, allows Training a model on multiple time steps simultaneously.\n",
    "    tf.keras.layers.LSTM(input_shape[0], return_sequences=True),\n",
    "    # Shape => [batch, out_steps*features]\n",
    "#     tf.keras.layers.Dense(OUT_STEPS * num_features, kernel_initializer=tf.initializers.zeros()),\n",
    "    # Shape => [batch, out_steps, features]\n",
    "#     tf.keras.layers.Reshape([OUT_STEPS, num_features]),\n",
    "    \n",
    "    # At the end we want to display just 1 feautre = 1 label.\n",
    "    # Hence such output shape => [batch, time_steps, feature(1)]\n",
    "    tf.keras.layers.Dense(units=1),\n",
    "])"
   ]
  },
  {
   "cell_type": "code",
   "execution_count": 455,
   "id": "b1a3e093",
   "metadata": {},
   "outputs": [
    {
     "ename": "ValueError",
     "evalue": "This model has not yet been built. Build the model first by calling `build()` or by calling the model on a batch of data.",
     "output_type": "error",
     "traceback": [
      "\u001b[0;31m---------------------------------------------------------------------------\u001b[0m",
      "\u001b[0;31mValueError\u001b[0m                                Traceback (most recent call last)",
      "Input \u001b[0;32mIn [455]\u001b[0m, in \u001b[0;36m<cell line: 1>\u001b[0;34m()\u001b[0m\n\u001b[0;32m----> 1\u001b[0m \u001b[43mmulti_lstm_model\u001b[49m\u001b[38;5;241;43m.\u001b[39;49m\u001b[43msummary\u001b[49m\u001b[43m(\u001b[49m\u001b[43m)\u001b[49m\n",
      "File \u001b[0;32m~/opt/anaconda3/envs/ds_env/lib/python3.9/site-packages/keras/engine/training.py:2775\u001b[0m, in \u001b[0;36mModel.summary\u001b[0;34m(self, line_length, positions, print_fn, expand_nested, show_trainable)\u001b[0m\n\u001b[1;32m   2753\u001b[0m \u001b[38;5;124;03m\"\"\"Prints a string summary of the network.\u001b[39;00m\n\u001b[1;32m   2754\u001b[0m \n\u001b[1;32m   2755\u001b[0m \u001b[38;5;124;03mArgs:\u001b[39;00m\n\u001b[0;32m   (...)\u001b[0m\n\u001b[1;32m   2772\u001b[0m \u001b[38;5;124;03m    ValueError: if `summary()` is called before the model is built.\u001b[39;00m\n\u001b[1;32m   2773\u001b[0m \u001b[38;5;124;03m\"\"\"\u001b[39;00m\n\u001b[1;32m   2774\u001b[0m \u001b[38;5;28;01mif\u001b[39;00m \u001b[38;5;129;01mnot\u001b[39;00m \u001b[38;5;28mself\u001b[39m\u001b[38;5;241m.\u001b[39mbuilt:\n\u001b[0;32m-> 2775\u001b[0m   \u001b[38;5;28;01mraise\u001b[39;00m \u001b[38;5;167;01mValueError\u001b[39;00m(\n\u001b[1;32m   2776\u001b[0m       \u001b[38;5;124m'\u001b[39m\u001b[38;5;124mThis model has not yet been built. \u001b[39m\u001b[38;5;124m'\u001b[39m\n\u001b[1;32m   2777\u001b[0m       \u001b[38;5;124m'\u001b[39m\u001b[38;5;124mBuild the model first by calling `build()` or by calling \u001b[39m\u001b[38;5;124m'\u001b[39m\n\u001b[1;32m   2778\u001b[0m       \u001b[38;5;124m'\u001b[39m\u001b[38;5;124mthe model on a batch of data.\u001b[39m\u001b[38;5;124m'\u001b[39m)\n\u001b[1;32m   2779\u001b[0m layer_utils\u001b[38;5;241m.\u001b[39mprint_summary(\n\u001b[1;32m   2780\u001b[0m     \u001b[38;5;28mself\u001b[39m,\n\u001b[1;32m   2781\u001b[0m     line_length\u001b[38;5;241m=\u001b[39mline_length,\n\u001b[0;32m   (...)\u001b[0m\n\u001b[1;32m   2784\u001b[0m     expand_nested\u001b[38;5;241m=\u001b[39mexpand_nested,\n\u001b[1;32m   2785\u001b[0m     show_trainable\u001b[38;5;241m=\u001b[39mshow_trainable)\n",
      "\u001b[0;31mValueError\u001b[0m: This model has not yet been built. Build the model first by calling `build()` or by calling the model on a batch of data."
     ]
    }
   ],
   "source": [
    "multi_lstm_model.summary()"
   ]
  },
  {
   "cell_type": "code",
   "execution_count": 459,
   "id": "5185d1d0",
   "metadata": {},
   "outputs": [],
   "source": [
    "multi_lstm_model.compile(loss=tf.losses.MeanSquaredError(),\n",
    "                        metrics=[tf.metrics.MeanAbsoluteError()])"
   ]
  },
  {
   "cell_type": "code",
   "execution_count": 460,
   "id": "e1f9eb76",
   "metadata": {},
   "outputs": [],
   "source": [
    "X_train_3d_1 = X_train_3d.astype(\"float32\")\n",
    "y_train_3d_1 = y_train_3d.astype(\"float32\")"
   ]
  },
  {
   "cell_type": "code",
   "execution_count": 461,
   "id": "39144bfa",
   "metadata": {},
   "outputs": [
    {
     "name": "stdout",
     "output_type": "stream",
     "text": [
      "Epoch 1/20\n",
      "8/8 [==============================] - 2s 48ms/step - loss: 0.0676 - mean_absolute_error: 0.1821 - val_loss: 0.7771 - val_mean_absolute_error: 0.4599\n",
      "Epoch 2/20\n",
      "8/8 [==============================] - 0s 7ms/step - loss: 0.0350 - mean_absolute_error: 0.1260 - val_loss: 1.0342 - val_mean_absolute_error: 0.5236\n",
      "Epoch 3/20\n",
      "8/8 [==============================] - 0s 8ms/step - loss: 0.0260 - mean_absolute_error: 0.1012 - val_loss: 0.8807 - val_mean_absolute_error: 0.4565\n",
      "Epoch 4/20\n",
      "8/8 [==============================] - 0s 7ms/step - loss: 0.0237 - mean_absolute_error: 0.0927 - val_loss: 0.6842 - val_mean_absolute_error: 0.4039\n",
      "Epoch 5/20\n",
      "8/8 [==============================] - 0s 7ms/step - loss: 0.0275 - mean_absolute_error: 0.1032 - val_loss: 0.8098 - val_mean_absolute_error: 0.4412\n",
      "Epoch 6/20\n",
      "8/8 [==============================] - 0s 7ms/step - loss: 0.0245 - mean_absolute_error: 0.0906 - val_loss: 1.2387 - val_mean_absolute_error: 0.5311\n",
      "Epoch 7/20\n",
      "8/8 [==============================] - 0s 7ms/step - loss: 0.0205 - mean_absolute_error: 0.0797 - val_loss: 0.8262 - val_mean_absolute_error: 0.4249\n",
      "Epoch 8/20\n",
      "8/8 [==============================] - 0s 7ms/step - loss: 0.0269 - mean_absolute_error: 0.0947 - val_loss: 1.1457 - val_mean_absolute_error: 0.5279\n",
      "Epoch 9/20\n",
      "8/8 [==============================] - 0s 7ms/step - loss: 0.0222 - mean_absolute_error: 0.0814 - val_loss: 1.2015 - val_mean_absolute_error: 0.5417\n",
      "Epoch 10/20\n",
      "8/8 [==============================] - 0s 7ms/step - loss: 0.0228 - mean_absolute_error: 0.0872 - val_loss: 0.8165 - val_mean_absolute_error: 0.4143\n",
      "Epoch 11/20\n",
      "8/8 [==============================] - 0s 7ms/step - loss: 0.0231 - mean_absolute_error: 0.0865 - val_loss: 1.7000 - val_mean_absolute_error: 0.7130\n",
      "Epoch 12/20\n",
      "8/8 [==============================] - 0s 7ms/step - loss: 0.0276 - mean_absolute_error: 0.0858 - val_loss: 0.6285 - val_mean_absolute_error: 0.4193\n",
      "Epoch 13/20\n",
      "8/8 [==============================] - 0s 7ms/step - loss: 0.0226 - mean_absolute_error: 0.0882 - val_loss: 1.2057 - val_mean_absolute_error: 0.5276\n",
      "Epoch 14/20\n",
      "8/8 [==============================] - 0s 7ms/step - loss: 0.0211 - mean_absolute_error: 0.0838 - val_loss: 1.3096 - val_mean_absolute_error: 0.5676\n",
      "Epoch 15/20\n",
      "8/8 [==============================] - 0s 8ms/step - loss: 0.0242 - mean_absolute_error: 0.0909 - val_loss: 1.2136 - val_mean_absolute_error: 0.5731\n",
      "Epoch 16/20\n",
      "8/8 [==============================] - 0s 7ms/step - loss: 0.0221 - mean_absolute_error: 0.0816 - val_loss: 0.6200 - val_mean_absolute_error: 0.3846\n",
      "Epoch 17/20\n",
      "8/8 [==============================] - 0s 7ms/step - loss: 0.0271 - mean_absolute_error: 0.0941 - val_loss: 0.9116 - val_mean_absolute_error: 0.4450\n",
      "Epoch 18/20\n",
      "8/8 [==============================] - 0s 7ms/step - loss: 0.0206 - mean_absolute_error: 0.0792 - val_loss: 1.0512 - val_mean_absolute_error: 0.4776\n",
      "Epoch 19/20\n",
      "8/8 [==============================] - 0s 7ms/step - loss: 0.0216 - mean_absolute_error: 0.0801 - val_loss: 1.3462 - val_mean_absolute_error: 0.5722\n",
      "Epoch 20/20\n",
      "8/8 [==============================] - 0s 7ms/step - loss: 0.0230 - mean_absolute_error: 0.0865 - val_loss: 1.0654 - val_mean_absolute_error: 0.4838\n"
     ]
    }
   ],
   "source": [
    "history = multi_lstm_model.fit(X_train_3d_1, y_train_3d_1, epochs=20, validation_data=(X_valid_3d, y_valid_3d))"
   ]
  },
  {
   "cell_type": "code",
   "execution_count": 462,
   "id": "01b594d3",
   "metadata": {},
   "outputs": [
    {
     "name": "stdout",
     "output_type": "stream",
     "text": [
      "3/3 [==============================] - 0s 3ms/step - loss: 26.1329 - mean_absolute_error: 4.7173\n"
     ]
    }
   ],
   "source": [
    "# Testing the data on the test set and storing the rmse error\n",
    "# After that plotting the actual labels vs predicted data.\n",
    "mse_test = multi_lstm_model.evaluate(X_test_3d, y_test_3d)"
   ]
  },
  {
   "cell_type": "code",
   "execution_count": 464,
   "id": "fccfc63d",
   "metadata": {},
   "outputs": [],
   "source": [
    "y_predicted = multi_lstm_model.predict(X_test_3d)"
   ]
  },
  {
   "cell_type": "code",
   "execution_count": 466,
   "id": "020e1b12",
   "metadata": {},
   "outputs": [],
   "source": [
    "y_predicted_reshape = y_predicted.reshape(-1,3)\n",
    "y_test_reshape = y_test_3d.reshape(-1,3)"
   ]
  },
  {
   "cell_type": "code",
   "execution_count": 467,
   "id": "e0aae456",
   "metadata": {},
   "outputs": [],
   "source": [
    "y_predicted_inversed = num_pipeline.inverse_transform(y_predicted_reshape)"
   ]
  },
  {
   "cell_type": "code",
   "execution_count": 469,
   "id": "26f38604",
   "metadata": {},
   "outputs": [],
   "source": [
    "y_test_labels_inversed = num_pipeline.inverse_transform(y_test_reshape)"
   ]
  },
  {
   "cell_type": "code",
   "execution_count": 476,
   "id": "83ff78e6",
   "metadata": {},
   "outputs": [],
   "source": [
    "y_predicted_rsh = y_predicted_inversed.reshape(-1)\n",
    "y_test_labels_rsh = y_test_labels_inversed.reshape(-1)"
   ]
  },
  {
   "cell_type": "code",
   "execution_count": 481,
   "id": "080a0c2f",
   "metadata": {},
   "outputs": [
    {
     "data": {
      "image/png": "[encoded data removed]",
      "text/plain": [
       "<Figure size 720x288 with 1 Axes>"
      ]
     },
     "metadata": {
      "needs_background": "light"
     },
     "output_type": "display_data"
    }
   ],
   "source": [
    "# Plotting graph of labels and predicted labels.\n",
    "plt.figure(figsize=(10,4))\n",
    "plt.plot(y_predicted_rsh, 'r*', label=\"predicted\")\n",
    "plt.plot(y_test_labels_rsh, \"b^\", label=\"actual\")\n",
    "plt.show()"
   ]
  },
  {
   "cell_type": "code",
   "execution_count": null,
   "id": "452bd8f8",
   "metadata": {},
   "outputs": [],
   "source": []
  }
 ],
 "metadata": {
  "kernelspec": {
   "display_name": "Python 3 (ipykernel)",
   "language": "python",
   "name": "python3"
  },
  "language_info": {
   "codemirror_mode": {
    "name": "ipython",
    "version": 3
   },
   "file_extension": ".py",
   "mimetype": "text/x-python",
   "name": "python",
   "nbconvert_exporter": "python",
   "pygments_lexer": "ipython3",
   "version": "3.9.12"
  }
 },
 "nbformat": 4,
 "nbformat_minor": 5
}
